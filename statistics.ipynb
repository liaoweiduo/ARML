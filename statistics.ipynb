{
 "cells": [
  {
   "cell_type": "code",
   "execution_count": 39,
   "metadata": {
    "collapsed": true
   },
   "outputs": [],
   "source": [
    "import os\n",
    "import pandas as pd\n",
    "import numpy as np\n",
    "\n",
    "import matplotlib.pyplot as plt\n",
    "import seaborn as sns\n",
    "%matplotlib inline\n",
    "import time"
   ]
  },
  {
   "cell_type": "code",
   "execution_count": 40,
   "outputs": [],
   "source": [
    "\n",
    "def load_test_summary(path):\n",
    "    test_summary = pd.read_csv(path, header=None)\n",
    "    test_summary = test_summary.rename(columns={0: 'seed', 1: 'acc'})\n",
    "    return test_summary\n",
    "\n",
    "path = '//10.20.2.245/datasets/ARML/logs'\n",
    "experiment = 'cls_5.mbs_4.ubs_1.numstep5.updatelr0.01.metalr0.001.emb_loss_weight0.01.hidden_dim128batchnorm'\n",
    "\n",
    "collect_all_data = []"
   ],
   "metadata": {
    "collapsed": false,
    "pycharm": {
     "name": "#%%\n"
    }
   }
  },
  {
   "cell_type": "code",
   "execution_count": 41,
   "outputs": [
    {
     "name": "stdout",
     "output_type": "stream",
     "text": [
      "    seed       acc\n",
      "0      0  0.577599\n",
      "1      1  0.598399\n",
      "2      2  0.583000\n",
      "3      3  0.576800\n",
      "4      4  0.582599\n",
      "5      5  0.587799\n",
      "6      6  0.605799\n",
      "7      7  0.593999\n",
      "8      8  0.594399\n",
      "9      9  0.588599\n",
      "10    10  0.590200\n",
      "means:0.5890173803676259, std:0.008851813656172927\n"
     ]
    }
   ],
   "source": [
    "# bird\n",
    "filename = 'test_meta-dataset-CUB_Bird_0.txt'\n",
    "\n",
    "statistic = load_test_summary(os.path.join(path, experiment, filename))\n",
    "print(statistic)\n",
    "\n",
    "mean = statistic[statistic.columns[1]].mean(axis=0)\n",
    "std = statistic[statistic.columns[1]].std(axis=0)\n",
    "print(f'means:{mean}, std:{std}')\n",
    "collect_all_data.append(statistic)"
   ],
   "metadata": {
    "collapsed": false,
    "pycharm": {
     "name": "#%%\n"
    }
   }
  },
  {
   "cell_type": "code",
   "execution_count": 42,
   "outputs": [
    {
     "name": "stdout",
     "output_type": "stream",
     "text": [
      "    seed       acc\n",
      "0      0  0.675397\n",
      "1      1  0.688797\n",
      "2      2  0.683397\n",
      "3      3  0.688798\n",
      "4      4  0.670798\n",
      "5      5  0.679598\n",
      "6      6  0.683397\n",
      "7      7  0.684997\n",
      "8      8  0.682197\n",
      "9      9  0.682997\n",
      "10    10  0.688198\n",
      "means:0.6825973879207264, std:0.005618437261493276\n"
     ]
    }
   ],
   "source": [
    "\n",
    "# omniglot\n",
    "filename = 'test_Omniglot_84_0.txt'\n",
    "\n",
    "statistic = load_test_summary(os.path.join(path, experiment, filename))\n",
    "print(statistic)\n",
    "\n",
    "mean = statistic[statistic.columns[1]].mean(axis=0)\n",
    "std = statistic[statistic.columns[1]].std(axis=0)\n",
    "print(f'means:{mean}, std:{std}')\n",
    "collect_all_data.append(statistic)"
   ],
   "metadata": {
    "collapsed": false,
    "pycharm": {
     "name": "#%%\n"
    }
   }
  },
  {
   "cell_type": "code",
   "execution_count": 43,
   "outputs": [
    {
     "name": "stdout",
     "output_type": "stream",
     "text": [
      "    seed       acc\n",
      "0      0  0.558399\n",
      "1      1  0.567599\n",
      "2      2  0.571799\n",
      "3      3  0.581199\n",
      "4      4  0.572599\n",
      "5      5  0.570599\n",
      "6      6  0.568200\n",
      "7      7  0.562400\n",
      "8      8  0.558999\n",
      "9      9  0.559999\n",
      "10    10  0.573199\n",
      "means:0.5677266879515215, std:0.007152128200375422\n"
     ]
    }
   ],
   "source": [
    "\n",
    "# aircraft\n",
    "filename = 'test_plainmulti_2.txt'\n",
    "\n",
    "statistic = load_test_summary(os.path.join(path, experiment, filename))\n",
    "print(statistic)\n",
    "\n",
    "mean = statistic[statistic.columns[1]].mean(axis=0)\n",
    "std = statistic[statistic.columns[1]].std(axis=0)\n",
    "print(f'means:{mean}, std:{std}')\n",
    "collect_all_data.append(statistic)"
   ],
   "metadata": {
    "collapsed": false,
    "pycharm": {
     "name": "#%%\n"
    }
   }
  },
  {
   "cell_type": "code",
   "execution_count": 44,
   "outputs": [
    {
     "name": "stdout",
     "output_type": "stream",
     "text": [
      "    seed     acc\n",
      "0      0  0.3354\n",
      "1      1  0.3272\n",
      "2      2  0.3350\n",
      "3      3  0.3318\n",
      "4      4  0.3404\n",
      "5      5  0.3294\n",
      "6      6  0.3370\n",
      "7      7  0.3332\n",
      "8      8  0.3256\n",
      "9      9  0.3250\n",
      "10    10  0.3260\n",
      "means:0.3314543908292597, std:0.005197066392146133\n"
     ]
    }
   ],
   "source": [
    "\n",
    "# textures\n",
    "filename = 'test_plainmulti_1.txt'\n",
    "\n",
    "statistic = load_test_summary(os.path.join(path, experiment, filename))\n",
    "print(statistic)\n",
    "\n",
    "mean = statistic[statistic.columns[1]].mean(axis=0)\n",
    "std = statistic[statistic.columns[1]].std(axis=0)\n",
    "print(f'means:{mean}, std:{std}')\n",
    "collect_all_data.append(statistic)"
   ],
   "metadata": {
    "collapsed": false,
    "pycharm": {
     "name": "#%%\n"
    }
   }
  },
  {
   "cell_type": "code",
   "execution_count": 45,
   "outputs": [
    {
     "name": "stdout",
     "output_type": "stream",
     "text": [
      "    seed       acc\n",
      "0      0  0.435400\n",
      "1      1  0.430600\n",
      "2      2  0.436000\n",
      "3      3  0.433601\n",
      "4      4  0.443800\n",
      "5      5  0.441399\n",
      "6      6  0.430000\n",
      "7      7  0.439600\n",
      "8      8  0.423400\n",
      "9      9  0.439800\n",
      "10    10  0.453600\n",
      "means:0.43701825629581104, std:0.008036024263553564\n"
     ]
    }
   ],
   "source": [
    "\n",
    "# fungi\n",
    "filename = 'test_plainmulti_3.txt'\n",
    "\n",
    "statistic = load_test_summary(os.path.join(path, experiment, filename))\n",
    "print(statistic)\n",
    "\n",
    "mean = statistic[statistic.columns[1]].mean(axis=0)\n",
    "std = statistic[statistic.columns[1]].std(axis=0)\n",
    "print(f'means:{mean}, std:{std}')\n",
    "collect_all_data.append(statistic)"
   ],
   "metadata": {
    "collapsed": false,
    "pycharm": {
     "name": "#%%\n"
    }
   }
  },
  {
   "cell_type": "code",
   "execution_count": 46,
   "outputs": [
    {
     "name": "stdout",
     "output_type": "stream",
     "text": [
      "    seed       acc\n",
      "0      0  0.596199\n",
      "1      1  0.603599\n",
      "2      2  0.602799\n",
      "3      3  0.600799\n",
      "4      4  0.604799\n",
      "5      5  0.610799\n",
      "6      6  0.599199\n",
      "7      7  0.607399\n",
      "8      8  0.594199\n",
      "9      9  0.600399\n",
      "10    10  0.596799\n",
      "means:0.6015443964438005, std:0.00498731957838767\n"
     ]
    }
   ],
   "source": [
    "\n",
    "# flower\n",
    "filename = 'test_VGG_Flower_84_0.txt'\n",
    "\n",
    "statistic = load_test_summary(os.path.join(path, experiment, filename))\n",
    "print(statistic)\n",
    "\n",
    "mean = statistic[statistic.columns[1]].mean(axis=0)\n",
    "std = statistic[statistic.columns[1]].std(axis=0)\n",
    "print(f'means:{mean}, std:{std}')\n",
    "collect_all_data.append(statistic)"
   ],
   "metadata": {
    "collapsed": false,
    "pycharm": {
     "name": "#%%\n"
    }
   }
  },
  {
   "cell_type": "code",
   "execution_count": 47,
   "outputs": [
    {
     "name": "stdout",
     "output_type": "stream",
     "text": [
      "    seed     acc\n",
      "0      0  0.4514\n",
      "1      1  0.4556\n",
      "2      2  0.4490\n",
      "3      3  0.4378\n",
      "4      4  0.4608\n",
      "5      5  0.4384\n",
      "6      6  0.4490\n",
      "7      7  0.4538\n",
      "8      8  0.4540\n",
      "9      9  0.4478\n",
      "10    10  0.4566\n",
      "means:0.4503818560730327, std:0.007159407394335161\n"
     ]
    }
   ],
   "source": [
    "\n",
    "# traffic sign\n",
    "filename = 'test_traffic_sign_84_0.txt'\n",
    "\n",
    "statistic = load_test_summary(os.path.join(path, experiment, filename))\n",
    "print(statistic)\n",
    "\n",
    "mean = statistic[statistic.columns[1]].mean(axis=0)\n",
    "std = statistic[statistic.columns[1]].std(axis=0)\n",
    "print(f'means:{mean}, std:{std}')\n",
    "collect_all_data.append(statistic)"
   ],
   "metadata": {
    "collapsed": false,
    "pycharm": {
     "name": "#%%\n"
    }
   }
  },
  {
   "cell_type": "code",
   "execution_count": 48,
   "outputs": [
    {
     "name": "stdout",
     "output_type": "stream",
     "text": [
      "    seed       acc\n",
      "0      0  0.294799\n",
      "1      1  0.329800\n",
      "2      2  0.317800\n",
      "3      3  0.311199\n",
      "4      4  0.311200\n",
      "5      5  0.307200\n",
      "6      6  0.322400\n",
      "7      7  0.320399\n",
      "8      8  0.304800\n",
      "9      9  0.307999\n",
      "10    10  0.307600\n",
      "means:0.31229051676663483, std:0.009672860356888753\n"
     ]
    }
   ],
   "source": [
    "\n",
    "# MSCOCO\n",
    "filename = 'test_mscoco_84_0.txt'\n",
    "\n",
    "statistic = load_test_summary(os.path.join(path, experiment, filename))\n",
    "print(statistic)\n",
    "\n",
    "mean = statistic[statistic.columns[1]].mean(axis=0)\n",
    "std = statistic[statistic.columns[1]].std(axis=0)\n",
    "print(f'means:{mean}, std:{std}')\n",
    "collect_all_data.append(statistic)"
   ],
   "metadata": {
    "collapsed": false,
    "pycharm": {
     "name": "#%%\n"
    }
   }
  },
  {
   "cell_type": "code",
   "execution_count": 49,
   "outputs": [
    {
     "name": "stdout",
     "output_type": "stream",
     "text": [
      "    seed     acc\n",
      "0      0  0.3458\n",
      "1      1  0.3426\n",
      "2      2  0.3456\n",
      "3      3  0.3454\n",
      "4      4  0.3494\n",
      "5      5  0.3466\n",
      "6      6  0.3364\n",
      "7      7  0.3428\n",
      "8      8  0.3398\n",
      "9      9  0.3506\n",
      "10    10  0.3488\n",
      "means:0.34489079497077246, std:0.004246730291154565\n"
     ]
    }
   ],
   "source": [
    "\n",
    "# mini\n",
    "filename = 'test_mini_84_0.txt'\n",
    "\n",
    "statistic = load_test_summary(os.path.join(path, experiment, filename))\n",
    "print(statistic)\n",
    "\n",
    "mean = statistic[statistic.columns[1]].mean(axis=0)\n",
    "std = statistic[statistic.columns[1]].std(axis=0)\n",
    "print(f'means:{mean}, std:{std}')\n",
    "collect_all_data.append(statistic)"
   ],
   "metadata": {
    "collapsed": false,
    "pycharm": {
     "name": "#%%\n"
    }
   }
  },
  {
   "cell_type": "code",
   "execution_count": 50,
   "outputs": [
    {
     "name": "stdout",
     "output_type": "stream",
     "text": [
      "    seed     acc\n",
      "0      0  0.3452\n",
      "1      1  0.3420\n",
      "2      2  0.3238\n",
      "3      3  0.3386\n",
      "4      4  0.3312\n",
      "5      5  0.3292\n",
      "6      6  0.3466\n",
      "7      7  0.3476\n",
      "8      8  0.3510\n",
      "9      9  0.3420\n",
      "10    10  0.3406\n",
      "means:0.3397999487139962, std:0.008460338512103743\n"
     ]
    }
   ],
   "source": [
    "\n",
    "# Clipart\n",
    "filename = 'test_DomainNet-clipart_84_0.txt'\n",
    "\n",
    "statistic = load_test_summary(os.path.join(path, experiment, filename))\n",
    "print(statistic)\n",
    "\n",
    "mean = statistic[statistic.columns[1]].mean(axis=0)\n",
    "std = statistic[statistic.columns[1]].std(axis=0)\n",
    "print(f'means:{mean}, std:{std}')\n",
    "collect_all_data.append(statistic)"
   ],
   "metadata": {
    "collapsed": false,
    "pycharm": {
     "name": "#%%\n"
    }
   }
  },
  {
   "cell_type": "code",
   "execution_count": 51,
   "outputs": [
    {
     "name": "stdout",
     "output_type": "stream",
     "text": [
      "    seed       acc\n",
      "0      0  0.242399\n",
      "1      1  0.244399\n",
      "2      2  0.245199\n",
      "3      3  0.249999\n",
      "4      4  0.237599\n",
      "5      5  0.241999\n",
      "6      6  0.250599\n",
      "7      7  0.246199\n",
      "8      8  0.243599\n",
      "9      9  0.246999\n",
      "10    10  0.252599\n",
      "means:0.24559882418675852, std:0.004341458236958974\n"
     ]
    }
   ],
   "source": [
    "\n",
    "# Infograph\n",
    "filename = 'test_DomainNet-infograph_84_0.txt'\n",
    "\n",
    "statistic = load_test_summary(os.path.join(path, experiment, filename))\n",
    "print(statistic)\n",
    "\n",
    "mean = statistic[statistic.columns[1]].mean(axis=0)\n",
    "std = statistic[statistic.columns[1]].std(axis=0)\n",
    "print(f'means:{mean}, std:{std}')\n",
    "collect_all_data.append(statistic)"
   ],
   "metadata": {
    "collapsed": false,
    "pycharm": {
     "name": "#%%\n"
    }
   }
  },
  {
   "cell_type": "code",
   "execution_count": 52,
   "outputs": [
    {
     "name": "stdout",
     "output_type": "stream",
     "text": [
      "    seed       acc\n",
      "0      0  0.316800\n",
      "1      1  0.295199\n",
      "2      2  0.301599\n",
      "3      3  0.299400\n",
      "4      4  0.312800\n",
      "5      5  0.303400\n",
      "6      6  0.295799\n",
      "7      7  0.300600\n",
      "8      8  0.295200\n",
      "9      9  0.305400\n",
      "10    10  0.302599\n",
      "means:0.3026176663962277, std:0.006965419108978363\n"
     ]
    }
   ],
   "source": [
    "\n",
    "# Painting\n",
    "filename = 'test_DomainNet-painting_84_0.txt'\n",
    "\n",
    "statistic = load_test_summary(os.path.join(path, experiment, filename))\n",
    "print(statistic)\n",
    "\n",
    "mean = statistic[statistic.columns[1]].mean(axis=0)\n",
    "std = statistic[statistic.columns[1]].std(axis=0)\n",
    "print(f'means:{mean}, std:{std}')\n",
    "collect_all_data.append(statistic)"
   ],
   "metadata": {
    "collapsed": false,
    "pycharm": {
     "name": "#%%\n"
    }
   }
  },
  {
   "cell_type": "code",
   "execution_count": 53,
   "outputs": [
    {
     "name": "stdout",
     "output_type": "stream",
     "text": [
      "    seed     acc\n",
      "0      0  0.4982\n",
      "1      1  0.4710\n",
      "2      2  0.4746\n",
      "3      3  0.4900\n",
      "4      4  0.4838\n",
      "5      5  0.4826\n",
      "6      6  0.4794\n",
      "7      7  0.4784\n",
      "8      8  0.4830\n",
      "9      9  0.4970\n",
      "10    10  0.4690\n",
      "means:0.48245467381043866, std:0.00958245529031991\n"
     ]
    }
   ],
   "source": [
    "\n",
    "# Quickdraw\n",
    "filename = 'test_DomainNet-quickdraw_84_0.txt'\n",
    "\n",
    "statistic = load_test_summary(os.path.join(path, experiment, filename))\n",
    "print(statistic)\n",
    "\n",
    "mean = statistic[statistic.columns[1]].mean(axis=0)\n",
    "std = statistic[statistic.columns[1]].std(axis=0)\n",
    "print(f'means:{mean}, std:{std}')\n",
    "collect_all_data.append(statistic)"
   ],
   "metadata": {
    "collapsed": false,
    "pycharm": {
     "name": "#%%\n"
    }
   }
  },
  {
   "cell_type": "code",
   "execution_count": 54,
   "outputs": [
    {
     "name": "stdout",
     "output_type": "stream",
     "text": [
      "    seed     acc\n",
      "0      0  0.3818\n",
      "1      1  0.3904\n",
      "2      2  0.3908\n",
      "3      3  0.3698\n",
      "4      4  0.3770\n",
      "5      5  0.3930\n",
      "6      6  0.3826\n",
      "7      7  0.3834\n",
      "8      8  0.3912\n",
      "9      9  0.3810\n",
      "10    10  0.3876\n",
      "means:0.38441827351396735, std:0.007056091907326534\n"
     ]
    }
   ],
   "source": [
    "\n",
    "# Real\n",
    "filename = 'test_DomainNet-real_84_0.txt'\n",
    "\n",
    "statistic = load_test_summary(os.path.join(path, experiment, filename))\n",
    "print(statistic)\n",
    "\n",
    "mean = statistic[statistic.columns[1]].mean(axis=0)\n",
    "std = statistic[statistic.columns[1]].std(axis=0)\n",
    "print(f'means:{mean}, std:{std}')\n",
    "collect_all_data.append(statistic)"
   ],
   "metadata": {
    "collapsed": false,
    "pycharm": {
     "name": "#%%\n"
    }
   }
  },
  {
   "cell_type": "code",
   "execution_count": 55,
   "outputs": [
    {
     "name": "stdout",
     "output_type": "stream",
     "text": [
      "    seed       acc\n",
      "0      0  0.305400\n",
      "1      1  0.293600\n",
      "2      2  0.289599\n",
      "3      3  0.291199\n",
      "4      4  0.285799\n",
      "5      5  0.288999\n",
      "6      6  0.292399\n",
      "7      7  0.292399\n",
      "8      8  0.280799\n",
      "9      9  0.290599\n",
      "10    10  0.293799\n",
      "means:0.2913265580480749, std:0.006016294312506837\n"
     ]
    }
   ],
   "source": [
    "\n",
    "# Sketch\n",
    "filename = 'test_DomainNet-sketch_84_0.txt'\n",
    "\n",
    "statistic = load_test_summary(os.path.join(path, experiment, filename))\n",
    "print(statistic)\n",
    "\n",
    "mean = statistic[statistic.columns[1]].mean(axis=0)\n",
    "std = statistic[statistic.columns[1]].std(axis=0)\n",
    "print(f'means:{mean}, std:{std}')\n",
    "collect_all_data.append(statistic)"
   ],
   "metadata": {
    "collapsed": false,
    "pycharm": {
     "name": "#%%\n"
    }
   }
  },
  {
   "cell_type": "code",
   "execution_count": 56,
   "outputs": [
    {
     "name": "stdout",
     "output_type": "stream",
     "text": [
      "    seed       acc\n",
      "0      0  0.319600\n",
      "1      1  0.308400\n",
      "2      2  0.315400\n",
      "3      3  0.314600\n",
      "4      4  0.307400\n",
      "5      5  0.316000\n",
      "6      6  0.301200\n",
      "7      7  0.305800\n",
      "8      8  0.311800\n",
      "9      9  0.315599\n",
      "10    10  0.308199\n",
      "means:0.3112723339687694, std:0.005503607845685405\n"
     ]
    }
   ],
   "source": [
    "\n",
    "# cifar10\n",
    "filename = 'test_CIFAR10_84_0.txt'\n",
    "\n",
    "statistic = load_test_summary(os.path.join(path, experiment, filename))\n",
    "print(statistic)\n",
    "\n",
    "mean = statistic[statistic.columns[1]].mean(axis=0)\n",
    "std = statistic[statistic.columns[1]].std(axis=0)\n",
    "print(f'means:{mean}, std:{std}')\n",
    "collect_all_data.append(statistic)"
   ],
   "metadata": {
    "collapsed": false,
    "pycharm": {
     "name": "#%%\n"
    }
   }
  },
  {
   "cell_type": "code",
   "execution_count": 57,
   "outputs": [
    {
     "name": "stdout",
     "output_type": "stream",
     "text": [
      "    seed     acc\n",
      "0      0  0.3756\n",
      "1      1  0.3590\n",
      "2      2  0.3662\n",
      "3      3  0.3732\n",
      "4      4  0.3704\n",
      "5      5  0.3702\n",
      "6      6  0.3658\n",
      "7      7  0.3682\n",
      "8      8  0.3714\n",
      "9      9  0.3544\n",
      "10    10  0.3626\n",
      "means:0.36699995398521423, std:0.006318357481262968\n"
     ]
    }
   ],
   "source": [
    "\n",
    "# cifar100\n",
    "filename = 'test_CIFAR100_84_0.txt'\n",
    "\n",
    "statistic = load_test_summary(os.path.join(path, experiment, filename))\n",
    "print(statistic)\n",
    "\n",
    "mean = statistic[statistic.columns[1]].mean(axis=0)\n",
    "std = statistic[statistic.columns[1]].std(axis=0)\n",
    "print(f'means:{mean}, std:{std}')\n",
    "collect_all_data.append(statistic)"
   ],
   "metadata": {
    "collapsed": false,
    "pycharm": {
     "name": "#%%\n"
    }
   }
  },
  {
   "cell_type": "code",
   "execution_count": 58,
   "outputs": [
    {
     "name": "stdout",
     "output_type": "stream",
     "text": [
      "    seed       acc\n",
      "0      0  0.311999\n",
      "1      1  0.315600\n",
      "2      2  0.310400\n",
      "3      3  0.317000\n",
      "4      4  0.320000\n",
      "5      5  0.316200\n",
      "6      6  0.306600\n",
      "7      7  0.323800\n",
      "8      8  0.318200\n",
      "9      9  0.309800\n",
      "10    10  0.324000\n",
      "means:0.3157815147529949, std:0.005661493922474428\n"
     ]
    }
   ],
   "source": [
    "\n",
    "# cars\n",
    "filename = 'test_cars_84_0.txt'\n",
    "\n",
    "statistic = load_test_summary(os.path.join(path, experiment, filename))\n",
    "print(statistic)\n",
    "\n",
    "mean = statistic[statistic.columns[1]].mean(axis=0)\n",
    "std = statistic[statistic.columns[1]].std(axis=0)\n",
    "print(f'means:{mean}, std:{std}')\n",
    "collect_all_data.append(statistic)"
   ],
   "metadata": {
    "collapsed": false,
    "pycharm": {
     "name": "#%%\n"
    }
   }
  },
  {
   "cell_type": "code",
   "execution_count": 59,
   "outputs": [
    {
     "name": "stdout",
     "output_type": "stream",
     "text": [
      "    seed     acc\n",
      "0      0  0.4326\n",
      "1      1  0.4348\n",
      "2      2  0.4392\n",
      "3      3  0.4404\n",
      "4      4  0.4414\n",
      "5      5  0.4426\n",
      "6      6  0.4316\n",
      "7      7  0.4234\n",
      "8      8  0.4330\n",
      "9      9  0.4330\n",
      "10    10  0.4356\n",
      "means:0.43523656780069525, std:0.005524359441638673\n"
     ]
    }
   ],
   "source": [
    "\n",
    "# pets\n",
    "filename = 'test_pets_head_84_0.txt'\n",
    "\n",
    "statistic = load_test_summary(os.path.join(path, experiment, filename))\n",
    "print(statistic)\n",
    "\n",
    "mean = statistic[statistic.columns[1]].mean(axis=0)\n",
    "std = statistic[statistic.columns[1]].std(axis=0)\n",
    "print(f'means:{mean}, std:{std}')\n",
    "collect_all_data.append(statistic)"
   ],
   "metadata": {
    "collapsed": false,
    "pycharm": {
     "name": "#%%\n"
    }
   }
  },
  {
   "cell_type": "code",
   "execution_count": 60,
   "outputs": [
    {
     "name": "stdout",
     "output_type": "stream",
     "text": [
      "    seed     acc\n",
      "0      0  0.3638\n",
      "1      1  0.3514\n",
      "2      2  0.3554\n",
      "3      3  0.3540\n",
      "4      4  0.3618\n",
      "5      5  0.3540\n",
      "6      6  0.3552\n",
      "7      7  0.3632\n",
      "8      8  0.3598\n",
      "9      9  0.3650\n",
      "10    10  0.3586\n",
      "means:0.35838185115294025, std:0.004650560441874839\n"
     ]
    }
   ],
   "source": [
    "\n",
    "# dogs\n",
    "filename = 'test_dogs_84_0.txt'\n",
    "\n",
    "statistic = load_test_summary(os.path.join(path, experiment, filename))\n",
    "print(statistic)\n",
    "\n",
    "mean = statistic[statistic.columns[1]].mean(axis=0)\n",
    "std = statistic[statistic.columns[1]].std(axis=0)\n",
    "print(f'means:{mean}, std:{std}')\n",
    "collect_all_data.append(statistic)"
   ],
   "metadata": {
    "collapsed": false,
    "pycharm": {
     "name": "#%%\n"
    }
   }
  },
  {
   "cell_type": "code",
   "execution_count": 65,
   "outputs": [
    {
     "name": "stdout",
     "output_type": "stream",
     "text": [
      "   seed       acc\n",
      "0     0  0.577599\n",
      "1     1  0.598399\n",
      "2     2  0.583000\n",
      "3     3  0.576800\n",
      "4     4  0.582599\n",
      "means:0.40754049169746315, std:0.0008339398199842645\n"
     ]
    }
   ],
   "source": [
    "\n",
    "# average\n",
    "collected_data = pd.concat(collect_all_data, ignore_index=True)\n",
    "print(collected_data.head())\n",
    "\n",
    "mean = collected_data[collected_data.columns[1]].mean(axis=0)\n",
    "\n",
    "means = np.array([\n",
    "    collected_data[collected_data['seed']==seed][\n",
    "        collected_data.columns[1]\n",
    "    ].mean(axis=0) for seed in range(11)\n",
    "])\n",
    "\n",
    "std = np.std(means)\n",
    "print(f'means:{mean}, std:{std}')"
   ],
   "metadata": {
    "collapsed": false,
    "pycharm": {
     "name": "#%%\n"
    }
   }
  },
  {
   "cell_type": "code",
   "execution_count": null,
   "outputs": [],
   "source": [],
   "metadata": {
    "collapsed": false,
    "pycharm": {
     "name": "#%%\n"
    }
   }
  }
 ],
 "metadata": {
  "kernelspec": {
   "display_name": "Python 3",
   "language": "python",
   "name": "python3"
  },
  "language_info": {
   "codemirror_mode": {
    "name": "ipython",
    "version": 2
   },
   "file_extension": ".py",
   "mimetype": "text/x-python",
   "name": "python",
   "nbconvert_exporter": "python",
   "pygments_lexer": "ipython2",
   "version": "2.7.6"
  }
 },
 "nbformat": 4,
 "nbformat_minor": 0
}